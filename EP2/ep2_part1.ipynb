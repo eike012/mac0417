{
  "nbformat": 4,
  "nbformat_minor": 0,
  "metadata": {
    "colab": {
      "provenance": []
    },
    "kernelspec": {
      "name": "python3",
      "display_name": "Python 3"
    },
    "language_info": {
      "name": "python"
    }
  },
  "cells": [
    {
      "cell_type": "markdown",
      "source": [
        "\n",
        "### EP2 MAC0417 / MAC5768\n",
        "##################################################################\n",
        "#### AO PREENCHER ESSE CABEÇALHO COM O MEU NOME E O MEU NÚMERO USP,#\n",
        "#### DECLARO QUE SOU O ÚNICO AUTOR E RESPONSÁVEL PELA RESOLUÇÃO #\n",
        "#### DESTE EP. #\n",
        "#### TODAS AS PARTES FORAM DESENVOLVIDAS E IMPLEMENTADAS POR MIM, #\n",
        "#### SEGUINDO AS INSTRUÇÕES E QUE PORTANTO, NÃO CONSTITUEM #\n",
        "#### DESONESTIDADE ACADÊMICA OU PLÁGIO. #\n",
        "# #\n",
        "#### DECLARO TAMBÉM, QUE SOU RESPONSÁVEL POR TODAS AS CÓPIAS #\n",
        "#### DESSE PROGRAMA, E QUE EU NÃO DISTRIBUI OU FACILITEI A #\n",
        "#### SUA DISTRIBUIÇÃO. ESTOU CIENTE QUE OS CASOS DE PLÁGIO E #\n",
        "#### DESONESTIDADE ACADÊMICA SERÃO TRATADOS SEGUNDO OS CRITÉRIOS #\n",
        "#### DEFINIDOS NO CÓDIGO DE ÉTICA DA USP. #\n",
        "#### #\n",
        "#### ENTENDO QUE JUPYTER NOTEBOOKS SEM ASSINATURA NÃO SERÃO #\n",
        "#### CORRIGIDOS E, AINDA ASSIM, PODERÃO SER PUNIDOS POR #\n",
        "#### DESONESTIDADE ACADÊMICA. #\n",
        "#### #\n",
        "#### #\n",
        "#### Nome : Eike Souza da Silva #\n",
        "#### NUSP : 4618653#\n",
        "#### Turma:  ? #\n",
        "#### Prof.: Ronaldo Fumio Hashimoto#\n",
        "##################################################################\n"
      ],
      "metadata": {
        "id": "Vuu0O8fJMmDF"
      }
    },
    {
      "cell_type": "code",
      "execution_count": 8,
      "metadata": {
        "id": "54dCR44-Mg5O"
      },
      "outputs": [],
      "source": [
        "import pandas as pd\n",
        "import matplotlib.pyplot as plt\n",
        "import matplotlib.image as mpimg\n",
        "import numpy as np\n",
        "import os\n",
        "import cv2\n",
        "from cv2 import resize"
      ]
    },
    {
      "cell_type": "code",
      "source": [
        "!git clone https://github.com/eike012/mac0417.git"
      ],
      "metadata": {
        "colab": {
          "base_uri": "https://localhost:8080/"
        },
        "id": "eQB_qgs7P6ol",
        "outputId": "4b73ce23-28d2-4e6c-a90b-1e71ce13d482"
      },
      "execution_count": 2,
      "outputs": [
        {
          "output_type": "stream",
          "name": "stdout",
          "text": [
            "Cloning into 'mac0417'...\n",
            "remote: Enumerating objects: 77, done.\u001b[K\n",
            "remote: Counting objects: 100% (37/37), done.\u001b[K\n",
            "remote: Compressing objects: 100% (33/33), done.\u001b[K\n",
            "remote: Total 77 (delta 4), reused 34 (delta 2), pack-reused 40\u001b[K\n",
            "Receiving objects: 100% (77/77), 141.69 MiB | 15.52 MiB/s, done.\n",
            "Resolving deltas: 100% (4/4), done.\n"
          ]
        }
      ]
    },
    {
      "cell_type": "code",
      "source": [
        "dir = '/content/mac0417/EP1/imgs'"
      ],
      "metadata": {
        "id": "fYssrF8SdF2c"
      },
      "execution_count": 9,
      "outputs": []
    },
    {
      "cell_type": "code",
      "source": [
        "def df_size(path: str) -> float:\n",
        "  tot = 0\n",
        "\n",
        "  for arq in os.listdir(path):\n",
        "    file_path = os.path.join(path, arq)\n",
        "\n",
        "    file_size = os.path.getsize(file_path)\n",
        "\n",
        "    tot += file_size\n",
        "\n",
        "  in_mb = tot/(1024 * 1024)\n",
        "\n",
        "  return in_mb\n",
        "\n",
        "def summary_table(dataframe: object, path: str):\n",
        "\n",
        "  base_imgs_size = df_size(path)\n",
        "\n",
        "  class_names = list(set(dataframe['classe']))\n",
        "  nclass = len(class_names)\n",
        "  nimgs = len(list(dataframe['nome']))\n",
        "\n",
        "  img = plt.imread(path + \"/1.jpg\")\n",
        "  height, width, _ = img.shape\n",
        "\n",
        "  print(\"==============================================\")\n",
        "  print(\"Tabela Global Sumária: \")\n",
        "  print(f\"  *  \", end=\"\")\n",
        "  print(f\"Nome das classes: \", end=\"\")\n",
        "  for _class in class_names:\n",
        "    print(f\"{_class}, \", end=\"\")\n",
        "  print(f\" \")\n",
        "  print(f\"  *  Número de classes: {nclass};\")\n",
        "  print(f\"  *  Número de imagens: {nimgs};\")\n",
        "  print(f\"  *  Tamanho da base (bytes): {round(base_imgs_size)}MB;\")\n",
        "  print(f\"  *  Resolução das imagens: {height} linhas por {width} colunas;\")\n",
        "  print(\"==============================================\")"
      ],
      "metadata": {
        "id": "BL9o1zZFQBv1"
      },
      "execution_count": 3,
      "outputs": []
    },
    {
      "cell_type": "code",
      "source": [
        "df = pd.read_csv(\"/content/mac0417/EP1/ep1.csv\")"
      ],
      "metadata": {
        "id": "jB3eBu8bQY2X"
      },
      "execution_count": 4,
      "outputs": []
    },
    {
      "cell_type": "code",
      "source": [
        "summary_table(df, dir)"
      ],
      "metadata": {
        "colab": {
          "base_uri": "https://localhost:8080/"
        },
        "id": "lpiitQ6JQZeU",
        "outputId": "ac26fd13-c65f-4833-a79a-a5694649e37d"
      },
      "execution_count": 5,
      "outputs": [
        {
          "output_type": "stream",
          "name": "stdout",
          "text": [
            "==============================================\n",
            "Tabela Global Sumária: \n",
            "  *  Nome das classes: fiodental, diario, desodorante, livro, oculos, estojo, cremedental,  livro, caneca, fone, guardachuva, caderno, tenis, prestobarba, notebook, controleremoto, hidratante, quadrinho, colher, garrafa1, repelente, celular, joystick, tesoura, garrafa2, bola, carteira,  \n",
            "  *  Número de classes: 27;\n",
            "  *  Número de imagens: 36;\n",
            "  *  Tamanho da base (bytes): 135MB;\n",
            "  *  Resolução das imagens: 3120 linhas por 4160 colunas;\n",
            "==============================================\n"
          ]
        }
      ]
    },
    {
      "cell_type": "code",
      "source": [
        "for image in os.listdir(dir):\n",
        "  cam = os.filepath.join(dir, image)\n",
        "  #print(f'processing {image} . . .')\n",
        "  img = cv2.imread(cam)\n",
        "  img_redux = resize(img, (0,0), fx = 0.5, fy = 0.5)\n",
        "\n",
        "  cv2.imwrite(cam, img_redux)\n"
      ],
      "metadata": {
        "id": "3zryBGbtQqoP"
      },
      "execution_count": null,
      "outputs": []
    }
  ]
}