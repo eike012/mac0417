{
  "nbformat": 4,
  "nbformat_minor": 0,
  "metadata": {
    "colab": {
      "provenance": []
    },
    "kernelspec": {
      "name": "python3",
      "display_name": "Python 3"
    },
    "language_info": {
      "name": "python"
    }
  },
  "cells": [
    {
      "cell_type": "markdown",
      "source": [
        "\n",
        "### EP2 MAC0417 / MAC5768\n",
        "##################################################################\n",
        "#### AO PREENCHER ESSE CABEÇALHO COM O MEU NOME E O MEU NÚMERO USP,#\n",
        "#### DECLARO QUE SOU O ÚNICO AUTOR E RESPONSÁVEL PELA RESOLUÇÃO #\n",
        "#### DESTE EP. #\n",
        "#### TODAS AS PARTES FORAM DESENVOLVIDAS E IMPLEMENTADAS POR MIM, #\n",
        "#### SEGUINDO AS INSTRUÇÕES E QUE PORTANTO, NÃO CONSTITUEM #\n",
        "#### DESONESTIDADE ACADÊMICA OU PLÁGIO. #\n",
        "# #\n",
        "#### DECLARO TAMBÉM, QUE SOU RESPONSÁVEL POR TODAS AS CÓPIAS #\n",
        "#### DESSE PROGRAMA, E QUE EU NÃO DISTRIBUI OU FACILITEI A #\n",
        "#### SUA DISTRIBUIÇÃO. ESTOU CIENTE QUE OS CASOS DE PLÁGIO E #\n",
        "#### DESONESTIDADE ACADÊMICA SERÃO TRATADOS SEGUNDO OS CRITÉRIOS #\n",
        "#### DEFINIDOS NO CÓDIGO DE ÉTICA DA USP. #\n",
        "#### #\n",
        "#### ENTENDO QUE JUPYTER NOTEBOOKS SEM ASSINATURA NÃO SERÃO #\n",
        "#### CORRIGIDOS E, AINDA ASSIM, PODERÃO SER PUNIDOS POR #\n",
        "#### DESONESTIDADE ACADÊMICA. #\n",
        "#### #\n",
        "#### #\n",
        "#### Nome : Eike Souza da Silva #\n",
        "#### NUSP : 4618653#\n",
        "#### Turma:  ? #\n",
        "#### Prof.: Ronaldo Fumio Hashimoto#\n",
        "##################################################################\n"
      ],
      "metadata": {
        "id": "Vuu0O8fJMmDF"
      }
    },
    {
      "cell_type": "code",
      "execution_count": null,
      "metadata": {
        "id": "54dCR44-Mg5O"
      },
      "outputs": [],
      "source": []
    }
  ]
}